{
 "cells": [
  {
   "cell_type": "code",
   "execution_count": 1,
   "metadata": {},
   "outputs": [
    {
     "name": "stderr",
     "output_type": "stream",
     "text": [
      "C:\\Users\\baris\\anaconda3\\lib\\site-packages\\ipykernel_launcher.py:10: FutureWarning: Passing a negative integer is deprecated in version 1.0 and will not be supported in future version. Instead, use None to not limit the column width.\n",
      "  # Remove the CWD from sys.path while we load stuff.\n"
     ]
    }
   ],
   "source": [
    "import plotly.express as px #visualization\n",
    "import pandas as pd\n",
    "from nltk import word_tokenize\n",
    "from nltk.corpus import stopwords\n",
    "import numpy as np\n",
    "import re\n",
    "import nltk\n",
    "import string\n",
    "from snowballstemmer import TurkishStemmer\n",
    "pd.set_option('display.max_colwidth', -1)"
   ]
  },
  {
   "cell_type": "code",
   "execution_count": 2,
   "metadata": {},
   "outputs": [],
   "source": [
    "neg=pd.read_csv('negative_words_tr.txt')# pozitif kelimeler\n",
    "pos=pd.read_csv('positive_words_tr.txt') #negatif kelimeler"
   ]
  },
  {
   "cell_type": "code",
   "execution_count": 3,
   "metadata": {},
   "outputs": [],
   "source": [
    "import pandas as pd\n",
    "dataset = pd.read_csv('TEB_sikayetvar-2020-08-18.csv')"
   ]
  },
  {
   "cell_type": "code",
   "execution_count": 4,
   "metadata": {},
   "outputs": [],
   "source": [
    "sikayetler = dataset['Sikayetler'].str.lower()"
   ]
  },
  {
   "cell_type": "code",
   "execution_count": 5,
   "metadata": {},
   "outputs": [],
   "source": [
    "PUNCT_TO_REMOVE = string.punctuation\n",
    "stoplist=stopwords.words('turkish')\n",
    "def remove_punctuation(text):# noktalama işaretlerini kaldırmak için\n",
    "    \"\"\"custom function to remove the punctuation\"\"\"\n",
    "    return text.translate(str.maketrans('', '', PUNCT_TO_REMOVE))\n",
    "\n",
    "sikayetler = sikayetler.apply(lambda text: remove_punctuation(text))\n",
    "def remove_stopwords(text): #stopwords kaldırmak için\n",
    "    \"\"\"custom function to remove the stopwords\"\"\"\n",
    "    return \" \".join([word for word in str(text).split() if word not in stoplist])\n",
    "\n",
    "dataset['text_stop'] = sikayetler.apply(lambda text: remove_stopwords(text))"
   ]
  },
  {
   "cell_type": "code",
   "execution_count": 6,
   "metadata": {},
   "outputs": [
    {
     "name": "stderr",
     "output_type": "stream",
     "text": [
      "[nltk_data] Downloading package punkt to\n",
      "[nltk_data]     C:\\Users\\baris\\AppData\\Roaming\\nltk_data...\n",
      "[nltk_data]   Package punkt is already up-to-date!\n"
     ]
    },
    {
     "data": {
      "text/plain": [
       "True"
      ]
     },
     "execution_count": 6,
     "metadata": {},
     "output_type": "execute_result"
    }
   ],
   "source": [
    "import nltk\n",
    "nltk.download('punkt')"
   ]
  },
  {
   "cell_type": "code",
   "execution_count": 7,
   "metadata": {},
   "outputs": [],
   "source": [
    "def stemming_tokenizer(text): \n",
    "    stemmer = TurkishStemmer()\n",
    "    return [stemmer.stemWord(w) for w in word_tokenize(text)]\n",
    "dataset['text_token'] = dataset['text_stop'].apply(lambda text: stemming_tokenizer(text))"
   ]
  },
  {
   "cell_type": "code",
   "execution_count": 8,
   "metadata": {},
   "outputs": [
    {
     "data": {
      "text/plain": [
       "0       [teb, kredi, kart, 120, tl, yıllıkkart, ücret, yansıtıl, t, c, yasa, gör, yapıla, ücretlendirme, 13, hukuk, daire, verile, 201147, esas, 2011115, sayıl, son, karar, gör, söz, konus, yıllık, kart, ücret, aidat, bk, 125, madde, hgk, 201019388, sayıl, karar, uyar, geri, dönük, kesile, kart, aidat, iade, olacak, dair, ke, hükmü, bulunmak, aksi, takdir, kredi, kart, iptal, talep, bulunacak]                                                                                                                                                                                                                                                                                                                                                \n",
       "1       [yaklaşık, 2, haf, ö, ceptetep, başvurus, yap, 1, haf, ö, gelip, ba, kağıt, vs, imzalatıp, kar, verip, git, akşa, şifre, gelir, dedi, 3, gün, sonra, mesaj, gel, sözleşme, olmamış, tekrar, gelecek, dedi, hal, ses, seda, yok, kimse, gelip, gitmedi, kadar, vasat, bir, banka, görmedi, başka, banka, kart, istedik, 2, gün, sonra, mobil, şube, giriş, yapmış, teb, 2, haf, şifre, olmadık, hesap, giriş, yapamıyor, 3, gün, içeri, hesap, aktif, olmaz, bbdk, şikayet, bulunacak]                                                                                                                                                                                                                                                               \n",
       "2       [085066, tel, şifre, unut, dedi, al, bugu, ba, kart, numaras, banka, gitme, gerektik, söylüyor, banka, salgı, haber, yok, herhal, banka, gitme, halletmek, yok, bir, sö, banka, bö, ba, rekla, veriyor]                                                                                                                                                                                                                                                                                                                                                                                                                                                                                                                                             \n",
       "3       [15, ağustos, 2020, cumartes, g, 1811, civar, oasis, bodr, avmde, teb02358, termıdli, bankamatik, par, yatırma, işle, sıra, para, ver, sonra, tanımlanamaya, banknot, ia, ediliyor, lütfe, ia, edile, para, al, dedi, açıla, yuva, par, yok, verile, süre, işle, yapılmadık, para, alıkonul, lütfe, 085066, teb, telefo, şube, aray, yak, teb, şube, iletiş, geç, yaz, 275, euro, içeri, kal, kart, ia, edil, sonra, atm, 510, dakik, kullanılamaz, ol, ekra, yak, diğer, atmler, adres, paylaşıl, par, hesap, geçmemiş, hesap, ceptetep, olduk, şubedeki, yardımcı, olamamakta]                                                                                                                                                                    \n",
       "4       [16082020, tarih, kart, alına, 114, liralık, kart, aidat, ücret, talep, etme, rağme, iades, yapılmıyor, denil, ancak, 4822, sayıl, kan, değişik, 4077, sayıl, tüketiç, korunmas, hakk, kan, sözleşme, haksız, şart, başlıklı, 6, maddes, gerek, banka, almak, olduk, üyelik, ücret, herhangi, bir, hizmet, karşılık, olmadık, haksızlık, söz, konus, sözleşme, şar, önce, hazırla, ayrıç, bö, bir, ücret, alınabilmes, yasa, belirtildik, ö, ba, ücretsiz, bonus, olmaya, kredi, kar, seçenek, sunulmal, t, c, yasa, gör, yapıla, ücretlendirme, 13, hukuk, daire, verile, 20114736, esas, 201111579, sayıl, son, karar, gör, söz, konus, yıllık, kart, ücret, aidat, bak, 125, madde, hgk, 201019388, sayıl, karar, uyar, geri, dönük, kesile, ...]\n",
       "                                                                                                                                                                                                                                                                                                                                                                                ...                                                                                                                                                                                                                                                                                                                                                                         \n",
       "3049    [1442020, itibar, yatır, hesap, mobil, uygula, üzer, his, al, sat, işle, gerçekleştiremedi, müşter, hizmet, ara, vesiles, 3, farklı, bir, bağlama, rağme, proble, çözülememiş, arkadaş, hepsi, sistemsel, bir, ha, söylem, sonra, tekrar, deney, telkin, bir, sonuç, varılamamış, anlayacak, bugu, pratik, bor, uygulamas, dahil, başladık, bitir, i̇nşallah, bura, yar, sıkıntı, merhe, olur]                                                                                                                                                                                                                                                                                                                                                      \n",
       "3050    [teb, kredi, kart, yansıt, olduk, yıllık, aidat, ad, alt, kesile, ücret, taraf, iade, rica, ediyor, kredi, kart, 2, adet, otomatik, fatur, talimat, olma, rağme, kesil, verile, söz, tutulmadı, ücret, taraf, iade, bekliyor]                                                                                                                                                                                                                                                                                                                                                                                                                                                                                                                       \n",
       "3051    [teb, ilk, hesap, aç, kart, şifre, fala, tama, mobil, uygulama, bir, turlu, giriş, yapamıyor, kullanıç, ad, şifre, alma, mi, gerekiyor, tcyi, yazıp, şifre, alabilir, ba, ger, dönüş, yapar, sevinir, cep, teb, uygulama, girecek, ilk, girecek, telefo, müşter, temsilci, ulaşamıyor, ba, lütfe, dönüş, yapar, i, olacak]                                                                                                                                                                                                                                                                                                                                                                                                                          \n",
       "3052    [ceptetep, uygulama, alış, 376, satış, 374, ike, belli, bir, miktar, gram, al, al, 1, saat, sonra, tekrar, kontrol, ettik, satış, 358, tlye, düş, bu, izah, ne]                                                                                                                                                                                                                                                                                                                                                                                                                                                                                                                                                                                     \n",
       "3053    [teb, banka, çektik, kredi, g, haf, son, geldik, sokak, çıkma, yasak, olduk, gün, ödeyemedi, bugu, bankamatik, gittik, kredi, öde, seçenek, taksit, ödedi, ödedik, sonra, kontrol, eder, para, vades, hesap, eksi, bakiye, düşürerek, tahsilat, yap, bugu, bir, ay, önce, mayıs, a, taksit, be, tahsil, et, zate, iş, olmadık, gün, bir, önce, kredi, tahsil, ediyor, ş, eksi, bakiye, bir, ay, boy, faiz, işletecek, köt, bir, banka]                                                                                                                                                                                                                                                                                                              \n",
       "Name: text_token, Length: 3054, dtype: object"
      ]
     },
     "execution_count": 8,
     "metadata": {},
     "output_type": "execute_result"
    }
   ],
   "source": [
    "dataset['text_token']"
   ]
  },
  {
   "cell_type": "code",
   "execution_count": 9,
   "metadata": {},
   "outputs": [],
   "source": [
    "def word_finder1(x):\n",
    "    df_words = set(\" \".join(x).split(\" \"))\n",
    "    extract_words =  set(neg.eski.to_list()).intersection(df_words)\n",
    "    return ', '.join(extract_words)\n",
    "def word_finder2(x):\n",
    "    df_words = set(\" \".join(x).split(\" \"))\n",
    "    extract_words =  set(pos.olan.to_list()).intersection(df_words)\n",
    "    return ', '.join(extract_words)\n",
    "dataset['neg'] = dataset.text_token.apply(word_finder1)\n",
    "dataset['pos'] = dataset.text_token.apply(word_finder2)"
   ]
  },
  {
   "cell_type": "code",
   "execution_count": 10,
   "metadata": {},
   "outputs": [],
   "source": [
    "dataset[\"Aidat\"] = dataset[\"text_token\"].map(lambda x: \"1\" if \"aidat\" in x else \"0\")\n",
    "dataset[\"Bonus\"] = dataset[\"text_token\"].map(lambda x: \"1\" if \"bonus\" in x else \"0\")\n",
    "dataset[\"Kredi\"] = dataset[\"text_token\"].map(lambda x: \"1\" if \"kredi\" in x else \"0\")\n",
    "dataset[\"Musteri\"] = dataset[\"text_token\"].map(lambda x: \"1\" if \"müşteri\" in x else \"0\")\n",
    "dataset[\"Hizmet\"] = dataset[\"text_token\"].map(lambda x: \"1\" if \"hizmet\" in x else \"0\")\n",
    "dataset[\"Sube\"] = dataset[\"text_token\"].map(lambda x: \"1\" if \"şube\" in x else \"0\")\n",
    "dataset[\"Cep\"] = dataset[\"text_token\"].map(lambda x: \"1\" if \"cep\" in x else \"0\")\n",
    "dataset[\"Hak\"] = dataset[\"text_token\"].map(lambda x: \"1\" if \"hak\" in x else \"0\")\n",
    "dataset[\"Hesap\"] = dataset[\"text_token\"].map(lambda x: \"1\" if \"hesap\" in x else \"0\")\n",
    "dataset[\"Talep\"] = dataset[\"text_token\"].map(lambda x: \"1\" if \"talep\" in x else \"0\")\n",
    "dataset[\"Ucret\"] = dataset[\"text_token\"].map(lambda x: \"1\" if \"ücret\" in x else \"0\")"
   ]
  },
  {
   "cell_type": "code",
   "execution_count": 11,
   "metadata": {},
   "outputs": [
    {
     "data": {
      "text/html": [
       "<div>\n",
       "<style scoped>\n",
       "    .dataframe tbody tr th:only-of-type {\n",
       "        vertical-align: middle;\n",
       "    }\n",
       "\n",
       "    .dataframe tbody tr th {\n",
       "        vertical-align: top;\n",
       "    }\n",
       "\n",
       "    .dataframe thead th {\n",
       "        text-align: right;\n",
       "    }\n",
       "</style>\n",
       "<table border=\"1\" class=\"dataframe\">\n",
       "  <thead>\n",
       "    <tr style=\"text-align: right;\">\n",
       "      <th></th>\n",
       "      <th>Unnamed: 0</th>\n",
       "      <th>Basliklar</th>\n",
       "      <th>Linkler</th>\n",
       "      <th>Sikayetler</th>\n",
       "      <th>text_stop</th>\n",
       "      <th>text_token</th>\n",
       "      <th>neg</th>\n",
       "      <th>pos</th>\n",
       "      <th>Aidat</th>\n",
       "      <th>Bonus</th>\n",
       "      <th>Kredi</th>\n",
       "      <th>Musteri</th>\n",
       "      <th>Hizmet</th>\n",
       "      <th>Sube</th>\n",
       "      <th>Cep</th>\n",
       "      <th>Hak</th>\n",
       "      <th>Hesap</th>\n",
       "      <th>Talep</th>\n",
       "      <th>Ucret</th>\n",
       "    </tr>\n",
       "  </thead>\n",
       "  <tbody>\n",
       "    <tr>\n",
       "      <th>0</th>\n",
       "      <td>0</td>\n",
       "      <td>TEB Kredi Kart Aidatı</td>\n",
       "      <td>/teb/teb-kredi-kart-aidati-44</td>\n",
       "      <td>TEB Kredi Kartıma 120 TL yıllıkkart ücreti yansıtılmıştır. T. C. Yasalarına göre yapılan bu ücretlendirme 13. Hukuk dairesince verilen 2011/47 ** esas 2011/115** sayılı son karara göre söz konusu yıllık kart ücreti aidatının bk. 125. Madde ve HGK 2010/1-93-88 sayılı karar uyarınca geriye dönük kesilen kart aidatlarının da iadesinin de olacağına dair de kesin hükmü bulunmaktadır. Aksi takdirde kredi kartınızı iptal talebinde bulunacağım.</td>\n",
       "      <td>teb kredi kartıma 120 tl yıllıkkart ücreti yansıtılmıştır t c yasalarına göre yapılan ücretlendirme 13 hukuk dairesince verilen 201147 esas 2011115 sayılı son karara göre söz konusu yıllık kart ücreti aidatının bk 125 madde hgk 201019388 sayılı karar uyarınca geriye dönük kesilen kart aidatlarının iadesinin olacağına dair kesin hükmü bulunmaktadır aksi takdirde kredi kartınızı iptal talebinde bulunacağım</td>\n",
       "      <td>[teb, kredi, kart, 120, tl, yıllıkkart, ücret, yansıtıl, t, c, yasa, gör, yapıla, ücretlendirme, 13, hukuk, daire, verile, 201147, esas, 2011115, sayıl, son, karar, gör, söz, konus, yıllık, kart, ücret, aidat, bk, 125, madde, hgk, 201019388, sayıl, karar, uyar, geri, dönük, kesile, kart, aidat, iade, olacak, dair, ke, hükmü, bulunmak, aksi, takdir, kredi, kart, iptal, talep, bulunacak]</td>\n",
       "      <td>geri</td>\n",
       "      <td>söz, iade, takdir</td>\n",
       "      <td>1</td>\n",
       "      <td>0</td>\n",
       "      <td>1</td>\n",
       "      <td>0</td>\n",
       "      <td>0</td>\n",
       "      <td>0</td>\n",
       "      <td>0</td>\n",
       "      <td>0</td>\n",
       "      <td>0</td>\n",
       "      <td>1</td>\n",
       "      <td>1</td>\n",
       "    </tr>\n",
       "    <tr>\n",
       "      <th>1</th>\n",
       "      <td>1</td>\n",
       "      <td>TEB Hesap İşleminin Gerçekleşmemesi</td>\n",
       "      <td>/teb/teb-hesap-isleminin-gerceklesmemesi</td>\n",
       "      <td>Yaklaşık 2 hafta önce CepteTeb başvurusu yaptım, 1 hafta önce biri gelip bana kağıt vs imzalatıp kartı verip gitti. Akşam şifre gelir dedi ama 3 gün sonra mesaj geldi, sözleşmeler olmamış tekrar geleceğiz dediler hala ses seda yok, kimsede gelip gitmedi. Bu kadar vasat bir banka görmedim. Başka bankadan kart istediğimde 2 gün sonra mobil şubesine giriş yapmıştım. Ama TEB de 2 haftadır şifrem olmadığı için hesaba giriş yapamıyorum. 3 gün içerisinde hesabım aktif olmaz ise BBDK ya şikayette bulunacağım.</td>\n",
       "      <td>yaklaşık 2 hafta önce cepteteb başvurusu yaptım 1 hafta önce gelip bana kağıt vs imzalatıp kartı verip gitti akşam şifre gelir dedi 3 gün sonra mesaj geldi sözleşmeler olmamış tekrar geleceğiz dediler hala ses seda yok kimsede gelip gitmedi kadar vasat bir banka görmedim başka bankadan kart istediğimde 2 gün sonra mobil şubesine giriş yapmıştım teb 2 haftadır şifrem olmadığı hesaba giriş yapamıyorum 3 gün içerisinde hesabım aktif olmaz bbdk şikayette bulunacağım</td>\n",
       "      <td>[yaklaşık, 2, haf, ö, ceptetep, başvurus, yap, 1, haf, ö, gelip, ba, kağıt, vs, imzalatıp, kar, verip, git, akşa, şifre, gelir, dedi, 3, gün, sonra, mesaj, gel, sözleşme, olmamış, tekrar, gelecek, dedi, hal, ses, seda, yok, kimse, gelip, gitmedi, kadar, vasat, bir, banka, görmedi, başka, banka, kart, istedik, 2, gün, sonra, mobil, şube, giriş, yapmış, teb, 2, haf, şifre, olmadık, hesap, giriş, yapamıyor, 3, gün, içeri, hesap, aktif, olmaz, bbdk, şikayet, bulunacak]</td>\n",
       "      <td>vasat, yok, şikayet</td>\n",
       "      <td>sözleşme</td>\n",
       "      <td>0</td>\n",
       "      <td>0</td>\n",
       "      <td>0</td>\n",
       "      <td>0</td>\n",
       "      <td>0</td>\n",
       "      <td>1</td>\n",
       "      <td>0</td>\n",
       "      <td>0</td>\n",
       "      <td>1</td>\n",
       "      <td>0</td>\n",
       "      <td>0</td>\n",
       "    </tr>\n",
       "    <tr>\n",
       "      <th>2</th>\n",
       "      <td>2</td>\n",
       "      <td>TEB Cep Mobil Şifre</td>\n",
       "      <td>/teb/teb-cep-mobil-sifre</td>\n",
       "      <td>0850*******66 bu telden şifremi unuttum dedim aldım bugün bana ya kart numarası ya da bankaya gitmem gerektiğini söylüyor. Bu bankanın salgından haberi yok herhalde yani bankaya gitmeden halletmek yok bir de söyle banka böyle banla diye reklam veriyorlar</td>\n",
       "      <td>085066 telden şifremi unuttum dedim aldım bugün bana kart numarası bankaya gitmem gerektiğini söylüyor bankanın salgından haberi yok herhalde bankaya gitmeden halletmek yok bir söyle banka böyle banla reklam veriyorlar</td>\n",
       "      <td>[085066, tel, şifre, unut, dedi, al, bugu, ba, kart, numaras, banka, gitme, gerektik, söylüyor, banka, salgı, haber, yok, herhal, banka, gitme, halletmek, yok, bir, sö, banka, bö, ba, rekla, veriyor]</td>\n",
       "      <td>yok</td>\n",
       "      <td></td>\n",
       "      <td>0</td>\n",
       "      <td>0</td>\n",
       "      <td>0</td>\n",
       "      <td>0</td>\n",
       "      <td>0</td>\n",
       "      <td>0</td>\n",
       "      <td>0</td>\n",
       "      <td>0</td>\n",
       "      <td>0</td>\n",
       "      <td>0</td>\n",
       "      <td>0</td>\n",
       "    </tr>\n",
       "    <tr>\n",
       "      <th>3</th>\n",
       "      <td>3</td>\n",
       "      <td>Teb Atm Paramı Yuttu</td>\n",
       "      <td>/teb/teb-atm-parami-yuttu-178</td>\n",
       "      <td>15 Ağustos 2020 Cumartesi günü 18:11 civarı, Oasis Bodrum AVM'de TEB02358 termıdli bankamatikte para yatırma işlemi sırasında parayı verdim, sonra \"Tanımlanamayan banknotlar iade ediliyor. Lütfen iade edilen paranızı alın.\" dedi, açılan yuvada para yoktu, \"Verilen sürede işlem yapılmadığı için paranız alıkonuldu. Lütfen 0850********66 TEB Telefon Şubesi'ni arayın veya en yakın TEB şubesiyle iletişime geçin.\" yazdı. 275 euro içerisinde kaldı. Kart iade edildi. Sonrasında ATM 5-10 dakika kullanılamaz oldu ve ekranda en yakın diğer ATM'lerin adresleri paylaşıldı. Para hesabıma geçmemiş. Hesap CepteTeb olduğu için şubedekiler de yardımcı olamamaktalar.</td>\n",
       "      <td>15 ağustos 2020 cumartesi günü 1811 civarı oasis bodrum avmde teb02358 termıdli bankamatikte para yatırma işlemi sırasında parayı verdim sonra tanımlanamayan banknotlar iade ediliyor lütfen iade edilen paranızı alın dedi açılan yuvada para yoktu verilen sürede işlem yapılmadığı paranız alıkonuldu lütfen 085066 teb telefon şubesini arayın yakın teb şubesiyle iletişime geçin yazdı 275 euro içerisinde kaldı kart iade edildi sonrasında atm 510 dakika kullanılamaz oldu ekranda yakın diğer atmlerin adresleri paylaşıldı para hesabıma geçmemiş hesap cepteteb olduğu şubedekiler yardımcı olamamaktalar</td>\n",
       "      <td>[15, ağustos, 2020, cumartes, g, 1811, civar, oasis, bodr, avmde, teb02358, termıdli, bankamatik, par, yatırma, işle, sıra, para, ver, sonra, tanımlanamaya, banknot, ia, ediliyor, lütfe, ia, edile, para, al, dedi, açıla, yuva, par, yok, verile, süre, işle, yapılmadık, para, alıkonul, lütfe, 085066, teb, telefo, şube, aray, yak, teb, şube, iletiş, geç, yaz, 275, euro, içeri, kal, kart, ia, edil, sonra, atm, 510, dakik, kullanılamaz, ol, ekra, yak, diğer, atmler, adres, paylaşıl, par, hesap, geçmemiş, hesap, ceptetep, olduk, şubedeki, yardımcı, olamamakta]</td>\n",
       "      <td>yok</td>\n",
       "      <td></td>\n",
       "      <td>0</td>\n",
       "      <td>0</td>\n",
       "      <td>0</td>\n",
       "      <td>0</td>\n",
       "      <td>0</td>\n",
       "      <td>1</td>\n",
       "      <td>0</td>\n",
       "      <td>0</td>\n",
       "      <td>1</td>\n",
       "      <td>0</td>\n",
       "      <td>0</td>\n",
       "    </tr>\n",
       "    <tr>\n",
       "      <th>4</th>\n",
       "      <td>4</td>\n",
       "      <td>TEB Kart Aidatı Ücreti</td>\n",
       "      <td>/teb/teb-kart-aidati-ucreti-8</td>\n",
       "      <td>16.08.2020 tarihinde kartımdan alınan 114 liralık kart aidat ücretinin talep etmeme rağmen iadesi yapılmıyor denildi. Ancak; 4822 sayılı kanun ile değişik 4077 sayılı tüketicinin korunması hakkında kanun sözleşmesinde haksız şartlar başlıklı 6. Maddesi gereğince bankanızın almakta olduğu üyelik ücreti herhangi bir hizmet karşılığı olmadığından haksızlık söz konusu sözleşme şartı önceden hazırlanmıştır. Ayrıca böyle bir ücretin alınabilmesi için yasalarda belirtildiği gibi önce bana ücretsiz (bonus olmayan) kredi kartı seçeneği sunulmalıydı. T. C. Yasalarına göre yapılan bu ücretlendirme 13. Hukuk dairesince verilen 2011/4736 esas 2011/11579 sayılı son karara göre söz konusu yıllık kart ücreti aidatının bakınız. 125. Madde ve HGK 2010/1-93-88 sayılı karar uyarınca geriye dönük kesilen kart aidatlarının da iadesinin de olacağına dair de kesin hüküm bulunmaktadır. Mevcut yasal düzenlemeler çerçevesinde 16.08.2020 tarihinde kesilen yıllık kart ücretinin iptalini ve tarafıma iadesini istiyorum. Netice bulamazsa BDDK ve BİMER üzerinden de gerekli şikayetleri dile getireceğimi bildiririm.</td>\n",
       "      <td>16082020 tarihinde kartımdan alınan 114 liralık kart aidat ücretinin talep etmeme rağmen iadesi yapılmıyor denildi ancak 4822 sayılı kanun değişik 4077 sayılı tüketicinin korunması hakkında kanun sözleşmesinde haksız şartlar başlıklı 6 maddesi gereğince bankanızın almakta olduğu üyelik ücreti herhangi bir hizmet karşılığı olmadığından haksızlık söz konusu sözleşme şartı önceden hazırlanmıştır ayrıca böyle bir ücretin alınabilmesi yasalarda belirtildiği önce bana ücretsiz bonus olmayan kredi kartı seçeneği sunulmalıydı t c yasalarına göre yapılan ücretlendirme 13 hukuk dairesince verilen 20114736 esas 201111579 sayılı son karara göre söz konusu yıllık kart ücreti aidatının bakınız 125 madde hgk 201019388 sayılı karar uyarınca geriye dönük kesilen kart aidatlarının iadesinin olacağına dair kesin hüküm bulunmaktadır mevcut yasal düzenlemeler çerçevesinde 16082020 tarihinde kesilen yıllık kart ücretinin iptalini tarafıma iadesini istiyorum netice bulamazsa bddk bi̇mer üzerinden gerekli şikayetleri dile getireceğimi bildiririm</td>\n",
       "      <td>[16082020, tarih, kart, alına, 114, liralık, kart, aidat, ücret, talep, etme, rağme, iades, yapılmıyor, denil, ancak, 4822, sayıl, kan, değişik, 4077, sayıl, tüketiç, korunmas, hakk, kan, sözleşme, haksız, şart, başlıklı, 6, maddes, gerek, banka, almak, olduk, üyelik, ücret, herhangi, bir, hizmet, karşılık, olmadık, haksızlık, söz, konus, sözleşme, şar, önce, hazırla, ayrıç, bö, bir, ücret, alınabilmes, yasa, belirtildik, ö, ba, ücretsiz, bonus, olmaya, kredi, kar, seçenek, sunulmal, t, c, yasa, gör, yapıla, ücretlendirme, 13, hukuk, daire, verile, 20114736, esas, 201111579, sayıl, son, karar, gör, söz, konus, yıllık, kart, ücret, aidat, bak, 125, madde, hgk, 201019388, sayıl, karar, uyar, geri, dönük, kesile, ...]</td>\n",
       "      <td>haksız, geri, haksızlık, şikayet, almak</td>\n",
       "      <td>mevcut, bak, söz, iade, yasal, ücretsiz, sözleşme, bonus</td>\n",
       "      <td>1</td>\n",
       "      <td>1</td>\n",
       "      <td>1</td>\n",
       "      <td>0</td>\n",
       "      <td>1</td>\n",
       "      <td>0</td>\n",
       "      <td>0</td>\n",
       "      <td>0</td>\n",
       "      <td>0</td>\n",
       "      <td>1</td>\n",
       "      <td>1</td>\n",
       "    </tr>\n",
       "    <tr>\n",
       "      <th>...</th>\n",
       "      <td>...</td>\n",
       "      <td>...</td>\n",
       "      <td>...</td>\n",
       "      <td>...</td>\n",
       "      <td>...</td>\n",
       "      <td>...</td>\n",
       "      <td>...</td>\n",
       "      <td>...</td>\n",
       "      <td>...</td>\n",
       "      <td>...</td>\n",
       "      <td>...</td>\n",
       "      <td>...</td>\n",
       "      <td>...</td>\n",
       "      <td>...</td>\n",
       "      <td>...</td>\n",
       "      <td>...</td>\n",
       "      <td>...</td>\n",
       "      <td>...</td>\n",
       "      <td>...</td>\n",
       "    </tr>\n",
       "    <tr>\n",
       "      <th>3049</th>\n",
       "      <td>3049</td>\n",
       "      <td>TEB Yatırım Hesabında Hisse Alım Satım Gerçekleştirememe Sorunu!</td>\n",
       "      <td>/teb/teb-yatirim-hesabinda-hisse-alim-satim-gerceklestirememe-sorunu</td>\n",
       "      <td>14.4.2020 itibarı ile yatırım hesabı mobil uygulama üzerinden hisse alım satım işlemi gerçekleştiremedim! Müşteri hizmetlerini arama vesilesi ve 3 farklı birime bağlamanıza rağmen problemim çözülememiştir! Arkadaşların hepsinin sistemsel bir hatadır söylemiyle sonra tekrar deneyin telkinleriyle bir sonuca varılamamıştır! Anlayacağınız bugünü pratik borsa uygulaması da dahil başladığımız gibi bitirdik! İnşallah buradan yarın için bu sıkıntıya merhem olursunuz!</td>\n",
       "      <td>1442020 itibarı yatırım hesabı mobil uygulama üzerinden hisse alım satım işlemi gerçekleştiremedim müşteri hizmetlerini arama vesilesi 3 farklı birime bağlamanıza rağmen problemim çözülememiştir arkadaşların hepsinin sistemsel bir hatadır söylemiyle sonra tekrar deneyin telkinleriyle bir sonuca varılamamıştır anlayacağınız bugünü pratik borsa uygulaması dahil başladığımız bitirdik i̇nşallah buradan yarın sıkıntıya merhem olursunuz</td>\n",
       "      <td>[1442020, itibar, yatır, hesap, mobil, uygula, üzer, his, al, sat, işle, gerçekleştiremedi, müşter, hizmet, ara, vesiles, 3, farklı, bir, bağlama, rağme, proble, çözülememiş, arkadaş, hepsi, sistemsel, bir, ha, söylem, sonra, tekrar, deney, telkin, bir, sonuç, varılamamış, anlayacak, bugu, pratik, bor, uygulamas, dahil, başladık, bitir, i̇nşallah, bura, yar, sıkıntı, merhe, olur]</td>\n",
       "      <td>sıkıntı, farklı</td>\n",
       "      <td>itibar</td>\n",
       "      <td>0</td>\n",
       "      <td>0</td>\n",
       "      <td>0</td>\n",
       "      <td>0</td>\n",
       "      <td>1</td>\n",
       "      <td>0</td>\n",
       "      <td>0</td>\n",
       "      <td>0</td>\n",
       "      <td>1</td>\n",
       "      <td>0</td>\n",
       "      <td>0</td>\n",
       "    </tr>\n",
       "    <tr>\n",
       "      <th>3050</th>\n",
       "      <td>3050</td>\n",
       "      <td>TEB Kredi Kart Aidat Problemi</td>\n",
       "      <td>/teb/teb-kredi-kart-aidat-problemi</td>\n",
       "      <td>TEB Kredi kartıma yansıtmış olduğu yıllık aidat adı altında kesilen ücretin tarafıma iadesini rica ediyorum. Bu kredi kartına 2 adet otomatik fatura talimatı olmasına rağmen kesilmiştir. Verilen söz tutulmadı. Ücretin tarafıma iadesini bekliyorum.</td>\n",
       "      <td>teb kredi kartıma yansıtmış olduğu yıllık aidat adı altında kesilen ücretin tarafıma iadesini rica ediyorum kredi kartına 2 adet otomatik fatura talimatı olmasına rağmen kesilmiştir verilen söz tutulmadı ücretin tarafıma iadesini bekliyorum</td>\n",
       "      <td>[teb, kredi, kart, yansıt, olduk, yıllık, aidat, ad, alt, kesile, ücret, taraf, iade, rica, ediyor, kredi, kart, 2, adet, otomatik, fatur, talimat, olma, rağme, kesil, verile, söz, tutulmadı, ücret, taraf, iade, bekliyor]</td>\n",
       "      <td>alt</td>\n",
       "      <td>söz, iade</td>\n",
       "      <td>1</td>\n",
       "      <td>0</td>\n",
       "      <td>1</td>\n",
       "      <td>0</td>\n",
       "      <td>0</td>\n",
       "      <td>0</td>\n",
       "      <td>0</td>\n",
       "      <td>0</td>\n",
       "      <td>0</td>\n",
       "      <td>0</td>\n",
       "      <td>1</td>\n",
       "    </tr>\n",
       "    <tr>\n",
       "      <th>3051</th>\n",
       "      <td>3051</td>\n",
       "      <td>TEB Cepte Teb Uygulamasına Giremiyorum</td>\n",
       "      <td>/teb/teb-cepte-teb-uygulamasina-giremiyorum</td>\n",
       "      <td>TEB de ilk defa hesap açtım kart şifrem falan tamam ama mobil uygulamasında bir turlu giriş yapamıyorum. Kullanıcı adı ve şifre almam mi gerekiyor veya T.C.'yi yazıp şifreyi nasıl alabilirim bana geri dönüş yaparsanız sevinirim. Cepte TEB uygulamasına nasıl gireceğim ilk defa gireceğim ama telefonla müşteri temsilcisine de ulaşamıyorum. Bana lütfen dönüş yaparsanız iyi olacak.</td>\n",
       "      <td>teb ilk hesap açtım kart şifrem falan tamam mobil uygulamasında bir turlu giriş yapamıyorum kullanıcı adı şifre almam mi gerekiyor tcyi yazıp şifreyi alabilirim bana geri dönüş yaparsanız sevinirim cepte teb uygulamasına gireceğim ilk gireceğim telefonla müşteri temsilcisine ulaşamıyorum bana lütfen dönüş yaparsanız iyi olacak</td>\n",
       "      <td>[teb, ilk, hesap, aç, kart, şifre, fala, tama, mobil, uygulama, bir, turlu, giriş, yapamıyor, kullanıç, ad, şifre, alma, mi, gerekiyor, tcyi, yazıp, şifre, alabilir, ba, ger, dönüş, yapar, sevinir, cep, teb, uygulama, girecek, ilk, girecek, telefo, müşter, temsilci, ulaşamıyor, ba, lütfe, dönüş, yapar, i, olacak]</td>\n",
       "      <td></td>\n",
       "      <td>ilk</td>\n",
       "      <td>0</td>\n",
       "      <td>0</td>\n",
       "      <td>0</td>\n",
       "      <td>0</td>\n",
       "      <td>0</td>\n",
       "      <td>0</td>\n",
       "      <td>1</td>\n",
       "      <td>0</td>\n",
       "      <td>1</td>\n",
       "      <td>0</td>\n",
       "      <td>0</td>\n",
       "    </tr>\n",
       "    <tr>\n",
       "      <th>3052</th>\n",
       "      <td>3052</td>\n",
       "      <td>TEB Bunun İzahı Nedir?</td>\n",
       "      <td>/teb/teb-bunun-izahi-nedir</td>\n",
       "      <td>CepteTeb uygulamasından alış 376 satış 374 iken belli bir miktar gram altın aldım. 1 saat sonra tekrar kontrol ettiğimde satış 358 TL'ye düşmüş. Bunun izahı nedir</td>\n",
       "      <td>cepteteb uygulamasından alış 376 satış 374 iken belli bir miktar gram altın aldım 1 saat sonra tekrar kontrol ettiğimde satış 358 tlye düşmüş bunun izahı nedir</td>\n",
       "      <td>[ceptetep, uygulama, alış, 376, satış, 374, ike, belli, bir, miktar, gram, al, al, 1, saat, sonra, tekrar, kontrol, ettik, satış, 358, tlye, düş, bu, izah, ne]</td>\n",
       "      <td></td>\n",
       "      <td></td>\n",
       "      <td>0</td>\n",
       "      <td>0</td>\n",
       "      <td>0</td>\n",
       "      <td>0</td>\n",
       "      <td>0</td>\n",
       "      <td>0</td>\n",
       "      <td>0</td>\n",
       "      <td>0</td>\n",
       "      <td>0</td>\n",
       "      <td>0</td>\n",
       "      <td>0</td>\n",
       "    </tr>\n",
       "    <tr>\n",
       "      <th>3053</th>\n",
       "      <td>3053</td>\n",
       "      <td>Teb Günü Gelmeyen Ödemeyi Tahsil Ediyorlar</td>\n",
       "      <td>/teb/teb-gunu-gelmeyen-odemeyi-tahsil-ediyorlar</td>\n",
       "      <td>TEB bankasından çektiğim kredinin günü hafta sonuna geldiğinden ve sokağa çıkma yasağı olduğundan gününde ödeyemedim. Bugün bankamatiğe gittiğimde kredi ödeme seçeneğinden taksitini ödedim ödedikten sonra kontrol ederken parayı vadesiz hesabı eksi bakiyeye düşürerek tahsilat yapmışlar. Bugünde daha bir ay önceden mayıs ayı taksitini benden tahsil ettiler. Zaten işlerin olmadığı bu günlerde bir de önceden kredi tahsil ediyorlar şimdi o eksi bakiyeye bir ay boyunca faiz işletecekler kötü bir banka.</td>\n",
       "      <td>teb bankasından çektiğim kredinin günü hafta sonuna geldiğinden sokağa çıkma yasağı olduğundan gününde ödeyemedim bugün bankamatiğe gittiğimde kredi ödeme seçeneğinden taksitini ödedim ödedikten sonra kontrol ederken parayı vadesiz hesabı eksi bakiyeye düşürerek tahsilat yapmışlar bugünde bir ay önceden mayıs ayı taksitini benden tahsil ettiler zaten işlerin olmadığı günlerde bir önceden kredi tahsil ediyorlar şimdi eksi bakiyeye bir ay boyunca faiz işletecekler kötü bir banka</td>\n",
       "      <td>[teb, banka, çektik, kredi, g, haf, son, geldik, sokak, çıkma, yasak, olduk, gün, ödeyemedi, bugu, bankamatik, gittik, kredi, öde, seçenek, taksit, ödedi, ödedik, sonra, kontrol, eder, para, vades, hesap, eksi, bakiye, düşürerek, tahsilat, yap, bugu, bir, ay, önce, mayıs, a, taksit, be, tahsil, et, zate, iş, olmadık, gün, bir, önce, kredi, tahsil, ediyor, ş, eksi, bakiye, bir, ay, boy, faiz, işletecek, köt, bir, banka]</td>\n",
       "      <td>yasak</td>\n",
       "      <td>iş</td>\n",
       "      <td>0</td>\n",
       "      <td>0</td>\n",
       "      <td>1</td>\n",
       "      <td>0</td>\n",
       "      <td>0</td>\n",
       "      <td>0</td>\n",
       "      <td>0</td>\n",
       "      <td>0</td>\n",
       "      <td>1</td>\n",
       "      <td>0</td>\n",
       "      <td>0</td>\n",
       "    </tr>\n",
       "  </tbody>\n",
       "</table>\n",
       "<p>3054 rows × 19 columns</p>\n",
       "</div>"
      ],
      "text/plain": [
       "      Unnamed: 0  \\\n",
       "0     0            \n",
       "1     1            \n",
       "2     2            \n",
       "3     3            \n",
       "4     4            \n",
       "...  ..            \n",
       "3049  3049         \n",
       "3050  3050         \n",
       "3051  3051         \n",
       "3052  3052         \n",
       "3053  3053         \n",
       "\n",
       "                                                             Basliklar  \\\n",
       "0     TEB Kredi Kart Aidatı                                              \n",
       "1     TEB Hesap İşleminin Gerçekleşmemesi                                \n",
       "2     TEB Cep Mobil Şifre                                                \n",
       "3     Teb Atm Paramı Yuttu                                               \n",
       "4     TEB Kart Aidatı Ücreti                                             \n",
       "...                      ...                                             \n",
       "3049  TEB Yatırım Hesabında Hisse Alım Satım Gerçekleştirememe Sorunu!   \n",
       "3050  TEB Kredi Kart Aidat Problemi                                      \n",
       "3051  TEB Cepte Teb Uygulamasına Giremiyorum                             \n",
       "3052  TEB Bunun İzahı Nedir?                                             \n",
       "3053  Teb Günü Gelmeyen Ödemeyi Tahsil Ediyorlar                         \n",
       "\n",
       "                                                                   Linkler  \\\n",
       "0     /teb/teb-kredi-kart-aidati-44                                          \n",
       "1     /teb/teb-hesap-isleminin-gerceklesmemesi                               \n",
       "2     /teb/teb-cep-mobil-sifre                                               \n",
       "3     /teb/teb-atm-parami-yuttu-178                                          \n",
       "4     /teb/teb-kart-aidati-ucreti-8                                          \n",
       "...                             ...                                          \n",
       "3049  /teb/teb-yatirim-hesabinda-hisse-alim-satim-gerceklestirememe-sorunu   \n",
       "3050  /teb/teb-kredi-kart-aidat-problemi                                     \n",
       "3051  /teb/teb-cepte-teb-uygulamasina-giremiyorum                            \n",
       "3052  /teb/teb-bunun-izahi-nedir                                             \n",
       "3053  /teb/teb-gunu-gelmeyen-odemeyi-tahsil-ediyorlar                        \n",
       "\n",
       "                                                                                                                                                                                                                                                                                                                                                                                                                                                                                                                                                                                                                                                                                                                                                                                                                                                                                                                                                                                                                                                                                                                                      Sikayetler  \\\n",
       "0     TEB Kredi Kartıma 120 TL yıllıkkart ücreti yansıtılmıştır. T. C. Yasalarına göre yapılan bu ücretlendirme 13. Hukuk dairesince verilen 2011/47 ** esas 2011/115** sayılı son karara göre söz konusu yıllık kart ücreti aidatının bk. 125. Madde ve HGK 2010/1-93-88 sayılı karar uyarınca geriye dönük kesilen kart aidatlarının da iadesinin de olacağına dair de kesin hükmü bulunmaktadır. Aksi takdirde kredi kartınızı iptal talebinde bulunacağım.                                                                                                                                                                                                                                                                                                                                                                                                                                                                                                                                                                                                                                                                                     \n",
       "1     Yaklaşık 2 hafta önce CepteTeb başvurusu yaptım, 1 hafta önce biri gelip bana kağıt vs imzalatıp kartı verip gitti. Akşam şifre gelir dedi ama 3 gün sonra mesaj geldi, sözleşmeler olmamış tekrar geleceğiz dediler hala ses seda yok, kimsede gelip gitmedi. Bu kadar vasat bir banka görmedim. Başka bankadan kart istediğimde 2 gün sonra mobil şubesine giriş yapmıştım. Ama TEB de 2 haftadır şifrem olmadığı için hesaba giriş yapamıyorum. 3 gün içerisinde hesabım aktif olmaz ise BBDK ya şikayette bulunacağım.                                                                                                                                                                                                                                                                                                                                                                                                                                                                                                                                                                                                                   \n",
       "2     0850*******66 bu telden şifremi unuttum dedim aldım bugün bana ya kart numarası ya da bankaya gitmem gerektiğini söylüyor. Bu bankanın salgından haberi yok herhalde yani bankaya gitmeden halletmek yok bir de söyle banka böyle banla diye reklam veriyorlar                                                                                                                                                                                                                                                                                                                                                                                                                                                                                                                                                                                                                                                                                                                                                                                                                                                                               \n",
       "3     15 Ağustos 2020 Cumartesi günü 18:11 civarı, Oasis Bodrum AVM'de TEB02358 termıdli bankamatikte para yatırma işlemi sırasında parayı verdim, sonra \"Tanımlanamayan banknotlar iade ediliyor. Lütfen iade edilen paranızı alın.\" dedi, açılan yuvada para yoktu, \"Verilen sürede işlem yapılmadığı için paranız alıkonuldu. Lütfen 0850********66 TEB Telefon Şubesi'ni arayın veya en yakın TEB şubesiyle iletişime geçin.\" yazdı. 275 euro içerisinde kaldı. Kart iade edildi. Sonrasında ATM 5-10 dakika kullanılamaz oldu ve ekranda en yakın diğer ATM'lerin adresleri paylaşıldı. Para hesabıma geçmemiş. Hesap CepteTeb olduğu için şubedekiler de yardımcı olamamaktalar.                                                                                                                                                                                                                                                                                                                                                                                                                                                             \n",
       "4     16.08.2020 tarihinde kartımdan alınan 114 liralık kart aidat ücretinin talep etmeme rağmen iadesi yapılmıyor denildi. Ancak; 4822 sayılı kanun ile değişik 4077 sayılı tüketicinin korunması hakkında kanun sözleşmesinde haksız şartlar başlıklı 6. Maddesi gereğince bankanızın almakta olduğu üyelik ücreti herhangi bir hizmet karşılığı olmadığından haksızlık söz konusu sözleşme şartı önceden hazırlanmıştır. Ayrıca böyle bir ücretin alınabilmesi için yasalarda belirtildiği gibi önce bana ücretsiz (bonus olmayan) kredi kartı seçeneği sunulmalıydı. T. C. Yasalarına göre yapılan bu ücretlendirme 13. Hukuk dairesince verilen 2011/4736 esas 2011/11579 sayılı son karara göre söz konusu yıllık kart ücreti aidatının bakınız. 125. Madde ve HGK 2010/1-93-88 sayılı karar uyarınca geriye dönük kesilen kart aidatlarının da iadesinin de olacağına dair de kesin hüküm bulunmaktadır. Mevcut yasal düzenlemeler çerçevesinde 16.08.2020 tarihinde kesilen yıllık kart ücretinin iptalini ve tarafıma iadesini istiyorum. Netice bulamazsa BDDK ve BİMER üzerinden de gerekli şikayetleri dile getireceğimi bildiririm.   \n",
       "...                                                                                                                                                                                                                                                                                                                                                                                                                                                                                                                                                                                                                                                                                                                                                                                                                                                                                                                                                                                                                                                                                                                                          ...   \n",
       "3049  14.4.2020 itibarı ile yatırım hesabı mobil uygulama üzerinden hisse alım satım işlemi gerçekleştiremedim! Müşteri hizmetlerini arama vesilesi ve 3 farklı birime bağlamanıza rağmen problemim çözülememiştir! Arkadaşların hepsinin sistemsel bir hatadır söylemiyle sonra tekrar deneyin telkinleriyle bir sonuca varılamamıştır! Anlayacağınız bugünü pratik borsa uygulaması da dahil başladığımız gibi bitirdik! İnşallah buradan yarın için bu sıkıntıya merhem olursunuz!                                                                                                                                                                                                                                                                                                                                                                                                                                                                                                                                                                                                                                                              \n",
       "3050  TEB Kredi kartıma yansıtmış olduğu yıllık aidat adı altında kesilen ücretin tarafıma iadesini rica ediyorum. Bu kredi kartına 2 adet otomatik fatura talimatı olmasına rağmen kesilmiştir. Verilen söz tutulmadı. Ücretin tarafıma iadesini bekliyorum.                                                                                                                                                                                                                                                                                                                                                                                                                                                                                                                                                                                                                                                                                                                                                                                                                                                                                      \n",
       "3051  TEB de ilk defa hesap açtım kart şifrem falan tamam ama mobil uygulamasında bir turlu giriş yapamıyorum. Kullanıcı adı ve şifre almam mi gerekiyor veya T.C.'yi yazıp şifreyi nasıl alabilirim bana geri dönüş yaparsanız sevinirim. Cepte TEB uygulamasına nasıl gireceğim ilk defa gireceğim ama telefonla müşteri temsilcisine de ulaşamıyorum. Bana lütfen dönüş yaparsanız iyi olacak.                                                                                                                                                                                                                                                                                                                                                                                                                                                                                                                                                                                                                                                                                                                                                  \n",
       "3052  CepteTeb uygulamasından alış 376 satış 374 iken belli bir miktar gram altın aldım. 1 saat sonra tekrar kontrol ettiğimde satış 358 TL'ye düşmüş. Bunun izahı nedir                                                                                                                                                                                                                                                                                                                                                                                                                                                                                                                                                                                                                                                                                                                                                                                                                                                                                                                                                                           \n",
       "3053  TEB bankasından çektiğim kredinin günü hafta sonuna geldiğinden ve sokağa çıkma yasağı olduğundan gününde ödeyemedim. Bugün bankamatiğe gittiğimde kredi ödeme seçeneğinden taksitini ödedim ödedikten sonra kontrol ederken parayı vadesiz hesabı eksi bakiyeye düşürerek tahsilat yapmışlar. Bugünde daha bir ay önceden mayıs ayı taksitini benden tahsil ettiler. Zaten işlerin olmadığı bu günlerde bir de önceden kredi tahsil ediyorlar şimdi o eksi bakiyeye bir ay boyunca faiz işletecekler kötü bir banka.                                                                                                                                                                                                                                                                                                                                                                                                                                                                                                                                                                                                                        \n",
       "\n",
       "                                                                                                                                                                                                                                                                                                                                                                                                                                                                                                                                                                                                                                                                                                                                                                                                                                                                                                                                                                                                                                                                          text_stop  \\\n",
       "0     teb kredi kartıma 120 tl yıllıkkart ücreti yansıtılmıştır t c yasalarına göre yapılan ücretlendirme 13 hukuk dairesince verilen 201147 esas 2011115 sayılı son karara göre söz konusu yıllık kart ücreti aidatının bk 125 madde hgk 201019388 sayılı karar uyarınca geriye dönük kesilen kart aidatlarının iadesinin olacağına dair kesin hükmü bulunmaktadır aksi takdirde kredi kartınızı iptal talebinde bulunacağım                                                                                                                                                                                                                                                                                                                                                                                                                                                                                                                                                                                                                                                         \n",
       "1     yaklaşık 2 hafta önce cepteteb başvurusu yaptım 1 hafta önce gelip bana kağıt vs imzalatıp kartı verip gitti akşam şifre gelir dedi 3 gün sonra mesaj geldi sözleşmeler olmamış tekrar geleceğiz dediler hala ses seda yok kimsede gelip gitmedi kadar vasat bir banka görmedim başka bankadan kart istediğimde 2 gün sonra mobil şubesine giriş yapmıştım teb 2 haftadır şifrem olmadığı hesaba giriş yapamıyorum 3 gün içerisinde hesabım aktif olmaz bbdk şikayette bulunacağım                                                                                                                                                                                                                                                                                                                                                                                                                                                                                                                                                                                              \n",
       "2     085066 telden şifremi unuttum dedim aldım bugün bana kart numarası bankaya gitmem gerektiğini söylüyor bankanın salgından haberi yok herhalde bankaya gitmeden halletmek yok bir söyle banka böyle banla reklam veriyorlar                                                                                                                                                                                                                                                                                                                                                                                                                                                                                                                                                                                                                                                                                                                                                                                                                                                      \n",
       "3     15 ağustos 2020 cumartesi günü 1811 civarı oasis bodrum avmde teb02358 termıdli bankamatikte para yatırma işlemi sırasında parayı verdim sonra tanımlanamayan banknotlar iade ediliyor lütfen iade edilen paranızı alın dedi açılan yuvada para yoktu verilen sürede işlem yapılmadığı paranız alıkonuldu lütfen 085066 teb telefon şubesini arayın yakın teb şubesiyle iletişime geçin yazdı 275 euro içerisinde kaldı kart iade edildi sonrasında atm 510 dakika kullanılamaz oldu ekranda yakın diğer atmlerin adresleri paylaşıldı para hesabıma geçmemiş hesap cepteteb olduğu şubedekiler yardımcı olamamaktalar                                                                                                                                                                                                                                                                                                                                                                                                                                                          \n",
       "4     16082020 tarihinde kartımdan alınan 114 liralık kart aidat ücretinin talep etmeme rağmen iadesi yapılmıyor denildi ancak 4822 sayılı kanun değişik 4077 sayılı tüketicinin korunması hakkında kanun sözleşmesinde haksız şartlar başlıklı 6 maddesi gereğince bankanızın almakta olduğu üyelik ücreti herhangi bir hizmet karşılığı olmadığından haksızlık söz konusu sözleşme şartı önceden hazırlanmıştır ayrıca böyle bir ücretin alınabilmesi yasalarda belirtildiği önce bana ücretsiz bonus olmayan kredi kartı seçeneği sunulmalıydı t c yasalarına göre yapılan ücretlendirme 13 hukuk dairesince verilen 20114736 esas 201111579 sayılı son karara göre söz konusu yıllık kart ücreti aidatının bakınız 125 madde hgk 201019388 sayılı karar uyarınca geriye dönük kesilen kart aidatlarının iadesinin olacağına dair kesin hüküm bulunmaktadır mevcut yasal düzenlemeler çerçevesinde 16082020 tarihinde kesilen yıllık kart ücretinin iptalini tarafıma iadesini istiyorum netice bulamazsa bddk bi̇mer üzerinden gerekli şikayetleri dile getireceğimi bildiririm   \n",
       "...                                                                                                                                                                                                                                                                                                                                                                                                                                                                                                                                                                                                                                                                                                                                                                                                                                                                                                                                                                                                                                                                             ...   \n",
       "3049  1442020 itibarı yatırım hesabı mobil uygulama üzerinden hisse alım satım işlemi gerçekleştiremedim müşteri hizmetlerini arama vesilesi 3 farklı birime bağlamanıza rağmen problemim çözülememiştir arkadaşların hepsinin sistemsel bir hatadır söylemiyle sonra tekrar deneyin telkinleriyle bir sonuca varılamamıştır anlayacağınız bugünü pratik borsa uygulaması dahil başladığımız bitirdik i̇nşallah buradan yarın sıkıntıya merhem olursunuz                                                                                                                                                                                                                                                                                                                                                                                                                                                                                                                                                                                                                              \n",
       "3050  teb kredi kartıma yansıtmış olduğu yıllık aidat adı altında kesilen ücretin tarafıma iadesini rica ediyorum kredi kartına 2 adet otomatik fatura talimatı olmasına rağmen kesilmiştir verilen söz tutulmadı ücretin tarafıma iadesini bekliyorum                                                                                                                                                                                                                                                                                                                                                                                                                                                                                                                                                                                                                                                                                                                                                                                                                                \n",
       "3051  teb ilk hesap açtım kart şifrem falan tamam mobil uygulamasında bir turlu giriş yapamıyorum kullanıcı adı şifre almam mi gerekiyor tcyi yazıp şifreyi alabilirim bana geri dönüş yaparsanız sevinirim cepte teb uygulamasına gireceğim ilk gireceğim telefonla müşteri temsilcisine ulaşamıyorum bana lütfen dönüş yaparsanız iyi olacak                                                                                                                                                                                                                                                                                                                                                                                                                                                                                                                                                                                                                                                                                                                                        \n",
       "3052  cepteteb uygulamasından alış 376 satış 374 iken belli bir miktar gram altın aldım 1 saat sonra tekrar kontrol ettiğimde satış 358 tlye düşmüş bunun izahı nedir                                                                                                                                                                                                                                                                                                                                                                                                                                                                                                                                                                                                                                                                                                                                                                                                                                                                                                                 \n",
       "3053  teb bankasından çektiğim kredinin günü hafta sonuna geldiğinden sokağa çıkma yasağı olduğundan gününde ödeyemedim bugün bankamatiğe gittiğimde kredi ödeme seçeneğinden taksitini ödedim ödedikten sonra kontrol ederken parayı vadesiz hesabı eksi bakiyeye düşürerek tahsilat yapmışlar bugünde bir ay önceden mayıs ayı taksitini benden tahsil ettiler zaten işlerin olmadığı günlerde bir önceden kredi tahsil ediyorlar şimdi eksi bakiyeye bir ay boyunca faiz işletecekler kötü bir banka                                                                                                                                                                                                                                                                                                                                                                                                                                                                                                                                                                               \n",
       "\n",
       "                                                                                                                                                                                                                                                                                                                                                                                                                                                                                                                                                                                                                                                                                                                                                text_token  \\\n",
       "0     [teb, kredi, kart, 120, tl, yıllıkkart, ücret, yansıtıl, t, c, yasa, gör, yapıla, ücretlendirme, 13, hukuk, daire, verile, 201147, esas, 2011115, sayıl, son, karar, gör, söz, konus, yıllık, kart, ücret, aidat, bk, 125, madde, hgk, 201019388, sayıl, karar, uyar, geri, dönük, kesile, kart, aidat, iade, olacak, dair, ke, hükmü, bulunmak, aksi, takdir, kredi, kart, iptal, talep, bulunacak]                                                                                                                                                                                                                                                                                                                                                   \n",
       "1     [yaklaşık, 2, haf, ö, ceptetep, başvurus, yap, 1, haf, ö, gelip, ba, kağıt, vs, imzalatıp, kar, verip, git, akşa, şifre, gelir, dedi, 3, gün, sonra, mesaj, gel, sözleşme, olmamış, tekrar, gelecek, dedi, hal, ses, seda, yok, kimse, gelip, gitmedi, kadar, vasat, bir, banka, görmedi, başka, banka, kart, istedik, 2, gün, sonra, mobil, şube, giriş, yapmış, teb, 2, haf, şifre, olmadık, hesap, giriş, yapamıyor, 3, gün, içeri, hesap, aktif, olmaz, bbdk, şikayet, bulunacak]                                                                                                                                                                                                                                                                  \n",
       "2     [085066, tel, şifre, unut, dedi, al, bugu, ba, kart, numaras, banka, gitme, gerektik, söylüyor, banka, salgı, haber, yok, herhal, banka, gitme, halletmek, yok, bir, sö, banka, bö, ba, rekla, veriyor]                                                                                                                                                                                                                                                                                                                                                                                                                                                                                                                                                \n",
       "3     [15, ağustos, 2020, cumartes, g, 1811, civar, oasis, bodr, avmde, teb02358, termıdli, bankamatik, par, yatırma, işle, sıra, para, ver, sonra, tanımlanamaya, banknot, ia, ediliyor, lütfe, ia, edile, para, al, dedi, açıla, yuva, par, yok, verile, süre, işle, yapılmadık, para, alıkonul, lütfe, 085066, teb, telefo, şube, aray, yak, teb, şube, iletiş, geç, yaz, 275, euro, içeri, kal, kart, ia, edil, sonra, atm, 510, dakik, kullanılamaz, ol, ekra, yak, diğer, atmler, adres, paylaşıl, par, hesap, geçmemiş, hesap, ceptetep, olduk, şubedeki, yardımcı, olamamakta]                                                                                                                                                                       \n",
       "4     [16082020, tarih, kart, alına, 114, liralık, kart, aidat, ücret, talep, etme, rağme, iades, yapılmıyor, denil, ancak, 4822, sayıl, kan, değişik, 4077, sayıl, tüketiç, korunmas, hakk, kan, sözleşme, haksız, şart, başlıklı, 6, maddes, gerek, banka, almak, olduk, üyelik, ücret, herhangi, bir, hizmet, karşılık, olmadık, haksızlık, söz, konus, sözleşme, şar, önce, hazırla, ayrıç, bö, bir, ücret, alınabilmes, yasa, belirtildik, ö, ba, ücretsiz, bonus, olmaya, kredi, kar, seçenek, sunulmal, t, c, yasa, gör, yapıla, ücretlendirme, 13, hukuk, daire, verile, 20114736, esas, 201111579, sayıl, son, karar, gör, söz, konus, yıllık, kart, ücret, aidat, bak, 125, madde, hgk, 201019388, sayıl, karar, uyar, geri, dönük, kesile, ...]   \n",
       "...                                                                                                                                                                                                                                                                                                                                                                                                                                                                                                                                                                                                                                                                                                                                                    ...   \n",
       "3049  [1442020, itibar, yatır, hesap, mobil, uygula, üzer, his, al, sat, işle, gerçekleştiremedi, müşter, hizmet, ara, vesiles, 3, farklı, bir, bağlama, rağme, proble, çözülememiş, arkadaş, hepsi, sistemsel, bir, ha, söylem, sonra, tekrar, deney, telkin, bir, sonuç, varılamamış, anlayacak, bugu, pratik, bor, uygulamas, dahil, başladık, bitir, i̇nşallah, bura, yar, sıkıntı, merhe, olur]                                                                                                                                                                                                                                                                                                                                                         \n",
       "3050  [teb, kredi, kart, yansıt, olduk, yıllık, aidat, ad, alt, kesile, ücret, taraf, iade, rica, ediyor, kredi, kart, 2, adet, otomatik, fatur, talimat, olma, rağme, kesil, verile, söz, tutulmadı, ücret, taraf, iade, bekliyor]                                                                                                                                                                                                                                                                                                                                                                                                                                                                                                                          \n",
       "3051  [teb, ilk, hesap, aç, kart, şifre, fala, tama, mobil, uygulama, bir, turlu, giriş, yapamıyor, kullanıç, ad, şifre, alma, mi, gerekiyor, tcyi, yazıp, şifre, alabilir, ba, ger, dönüş, yapar, sevinir, cep, teb, uygulama, girecek, ilk, girecek, telefo, müşter, temsilci, ulaşamıyor, ba, lütfe, dönüş, yapar, i, olacak]                                                                                                                                                                                                                                                                                                                                                                                                                             \n",
       "3052  [ceptetep, uygulama, alış, 376, satış, 374, ike, belli, bir, miktar, gram, al, al, 1, saat, sonra, tekrar, kontrol, ettik, satış, 358, tlye, düş, bu, izah, ne]                                                                                                                                                                                                                                                                                                                                                                                                                                                                                                                                                                                        \n",
       "3053  [teb, banka, çektik, kredi, g, haf, son, geldik, sokak, çıkma, yasak, olduk, gün, ödeyemedi, bugu, bankamatik, gittik, kredi, öde, seçenek, taksit, ödedi, ödedik, sonra, kontrol, eder, para, vades, hesap, eksi, bakiye, düşürerek, tahsilat, yap, bugu, bir, ay, önce, mayıs, a, taksit, be, tahsil, et, zate, iş, olmadık, gün, bir, önce, kredi, tahsil, ediyor, ş, eksi, bakiye, bir, ay, boy, faiz, işletecek, köt, bir, banka]                                                                                                                                                                                                                                                                                                                 \n",
       "\n",
       "                                          neg  \\\n",
       "0     geri                                      \n",
       "1     vasat, yok, şikayet                       \n",
       "2     yok                                       \n",
       "3     yok                                       \n",
       "4     haksız, geri, haksızlık, şikayet, almak   \n",
       "...                                       ...   \n",
       "3049  sıkıntı, farklı                           \n",
       "3050  alt                                       \n",
       "3051                                            \n",
       "3052                                            \n",
       "3053  yasak                                     \n",
       "\n",
       "                                                           pos Aidat Bonus  \\\n",
       "0     söz, iade, takdir                                         1     0      \n",
       "1     sözleşme                                                  0     0      \n",
       "2                                                               0     0      \n",
       "3                                                               0     0      \n",
       "4     mevcut, bak, söz, iade, yasal, ücretsiz, sözleşme, bonus  1     1      \n",
       "...                                                        ... ..    ..      \n",
       "3049  itibar                                                    0     0      \n",
       "3050  söz, iade                                                 1     0      \n",
       "3051  ilk                                                       0     0      \n",
       "3052                                                            0     0      \n",
       "3053  iş                                                        0     0      \n",
       "\n",
       "     Kredi Musteri Hizmet Sube Cep Hak Hesap Talep Ucret  \n",
       "0     1     0       0      0    0   0   0     1     1     \n",
       "1     0     0       0      1    0   0   1     0     0     \n",
       "2     0     0       0      0    0   0   0     0     0     \n",
       "3     0     0       0      1    0   0   1     0     0     \n",
       "4     1     0       1      0    0   0   0     1     1     \n",
       "...  ..    ..      ..     ..   ..  ..  ..    ..    ..     \n",
       "3049  0     0       1      0    0   0   1     0     0     \n",
       "3050  1     0       0      0    0   0   0     0     1     \n",
       "3051  0     0       0      0    1   0   1     0     0     \n",
       "3052  0     0       0      0    0   0   0     0     0     \n",
       "3053  1     0       0      0    0   0   1     0     0     \n",
       "\n",
       "[3054 rows x 19 columns]"
      ]
     },
     "execution_count": 11,
     "metadata": {},
     "output_type": "execute_result"
    }
   ],
   "source": [
    "dataset"
   ]
  },
  {
   "cell_type": "code",
   "execution_count": 12,
   "metadata": {},
   "outputs": [],
   "source": [
    "dataset = dataset.replace(r'^\\s*$', np.nan, regex=True).fillna(0)"
   ]
  },
  {
   "cell_type": "code",
   "execution_count": 13,
   "metadata": {},
   "outputs": [],
   "source": [
    "dataset[dataset['pos'] != 0] = 1"
   ]
  },
  {
   "cell_type": "code",
   "execution_count": 14,
   "metadata": {},
   "outputs": [],
   "source": [
    "dataset['score']=dataset['pos']"
   ]
  },
  {
   "cell_type": "code",
   "execution_count": 15,
   "metadata": {},
   "outputs": [],
   "source": [
    "import matplotlib.pyplot as plt\n",
    "import seaborn as sn"
   ]
  },
  {
   "cell_type": "code",
   "execution_count": 16,
   "metadata": {},
   "outputs": [
    {
     "data": {
      "text/plain": [
       "1    2470\n",
       "0    584 \n",
       "Name: score, dtype: int64"
      ]
     },
     "execution_count": 16,
     "metadata": {},
     "output_type": "execute_result"
    }
   ],
   "source": [
    "target_count = dataset.score.value_counts()\n",
    "target_count"
   ]
  },
  {
   "cell_type": "code",
   "execution_count": 17,
   "metadata": {},
   "outputs": [
    {
     "name": "stdout",
     "output_type": "stream",
     "text": [
      "Class 0: 584\n",
      "Class 1: 2470\n",
      "Proportion: 0.24 : 1\n"
     ]
    },
    {
     "data": {
      "image/png": "[encoded data removed]",
      "text/plain": [
       "<Figure size 432x288 with 1 Axes>"
      ]
     },
     "metadata": {
      "needs_background": "light"
     },
     "output_type": "display_data"
    }
   ],
   "source": [
    "print('Class 0:', target_count[0])\n",
    "print('Class 1:', target_count[1])\n",
    "print('Proportion:', round(target_count[0] / target_count[1], 2), ': 1')\n",
    "\n",
    "target_count.plot(kind='bar', title='Score Count');\n",
    "\n",
    "#imbalanced bir dataset olduğu için undersampling metodunu uygulayacağız. "
   ]
  },
  {
   "cell_type": "code",
   "execution_count": 18,
   "metadata": {},
   "outputs": [
    {
     "data": {
      "text/plain": [
       "Index(['Unnamed: 0', 'Basliklar', 'Linkler', 'Sikayetler', 'text_stop',\n",
       "       'text_token', 'neg', 'pos', 'Aidat', 'Bonus', 'Kredi', 'Musteri',\n",
       "       'Hizmet', 'Sube', 'Cep', 'Hak', 'Hesap', 'Talep', 'Ucret', 'score'],\n",
       "      dtype='object')"
      ]
     },
     "execution_count": 18,
     "metadata": {},
     "output_type": "execute_result"
    }
   ],
   "source": [
    "dataset.columns"
   ]
  },
  {
   "cell_type": "code",
   "execution_count": 19,
   "metadata": {},
   "outputs": [],
   "source": [
    "dataset2 = dataset[['Aidat', 'Bonus', 'Kredi',\n",
    "       'Musteri', 'Hizmet', 'Sube', 'Cep',\n",
    "       'Hak', 'Hesap', 'Talep', 'Ucret']]\n",
    "response = dataset['score']"
   ]
  },
  {
   "cell_type": "code",
   "execution_count": 20,
   "metadata": {},
   "outputs": [],
   "source": [
    "from sklearn.model_selection import train_test_split\n",
    "X_train, X_test, y_train, y_test = train_test_split(dataset2,response,test_size = 0.2,random_state = 0)\n"
   ]
  },
  {
   "cell_type": "code",
   "execution_count": 21,
   "metadata": {},
   "outputs": [],
   "source": [
    "import random \n",
    "# Balancing the Training Set\n",
    "y_train.value_counts()\n",
    "\n",
    "pos_index = y_train[y_train.values == 1].index\n",
    "neg_index = y_train[y_train.values == 0].index\n",
    "\n",
    "if len(pos_index) > len(neg_index):\n",
    "    higher = pos_index\n",
    "    lower = neg_index\n",
    "else:\n",
    "    higher = neg_index\n",
    "    lower = pos_index\n",
    "\n",
    "random.seed(0)\n",
    "higher = np.random.choice(higher, size=len(lower))\n",
    "lower = np.asarray(lower)\n",
    "new_indexes = np.concatenate((lower, higher))\n",
    "\n",
    "X_train = X_train.loc[new_indexes,]\n",
    "y_train = y_train[new_indexes]\n",
    "\n",
    "# Feature Scaling\n",
    "from sklearn.preprocessing import StandardScaler\n",
    "sc_X = StandardScaler()\n",
    "X_train2 = pd.DataFrame(sc_X.fit_transform(X_train))\n",
    "X_test2 = pd.DataFrame(sc_X.transform(X_test))\n",
    "X_train2.columns = X_train.columns.values\n",
    "X_test2.columns = X_test.columns.values\n",
    "X_train2.index = X_train.index.values\n",
    "X_test2.index = X_test.index.values\n",
    "X_train = X_train2\n",
    "X_test = X_test2\n"
   ]
  },
  {
   "cell_type": "code",
   "execution_count": 22,
   "metadata": {},
   "outputs": [
    {
     "ename": "ValueError",
     "evalue": "Unknown label type: 'unknown'",
     "output_type": "error",
     "traceback": [
      "\u001b[1;31m---------------------------------------------------------------------------\u001b[0m",
      "\u001b[1;31mValueError\u001b[0m                                Traceback (most recent call last)",
      "\u001b[1;32m<ipython-input-22-90d8f5ff03a9>\u001b[0m in \u001b[0;36m<module>\u001b[1;34m\u001b[0m\n\u001b[0;32m      1\u001b[0m \u001b[1;32mfrom\u001b[0m \u001b[0msklearn\u001b[0m\u001b[1;33m.\u001b[0m\u001b[0mlinear_model\u001b[0m \u001b[1;32mimport\u001b[0m \u001b[0mLogisticRegression\u001b[0m\u001b[1;33m\u001b[0m\u001b[1;33m\u001b[0m\u001b[0m\n\u001b[0;32m      2\u001b[0m \u001b[0mclassifier\u001b[0m \u001b[1;33m=\u001b[0m \u001b[0mLogisticRegression\u001b[0m\u001b[1;33m(\u001b[0m\u001b[0mrandom_state\u001b[0m \u001b[1;33m=\u001b[0m \u001b[1;36m0\u001b[0m\u001b[1;33m)\u001b[0m\u001b[1;33m\u001b[0m\u001b[1;33m\u001b[0m\u001b[0m\n\u001b[1;32m----> 3\u001b[1;33m \u001b[0mclassifier\u001b[0m\u001b[1;33m.\u001b[0m\u001b[0mfit\u001b[0m\u001b[1;33m(\u001b[0m\u001b[0mX_train\u001b[0m\u001b[1;33m,\u001b[0m \u001b[0my_train\u001b[0m\u001b[1;33m)\u001b[0m\u001b[1;33m\u001b[0m\u001b[1;33m\u001b[0m\u001b[0m\n\u001b[0m\u001b[0;32m      4\u001b[0m \u001b[1;33m\u001b[0m\u001b[0m\n\u001b[0;32m      5\u001b[0m \u001b[1;31m# Predicting Test Set\u001b[0m\u001b[1;33m\u001b[0m\u001b[1;33m\u001b[0m\u001b[1;33m\u001b[0m\u001b[0m\n",
      "\u001b[1;32m~\\anaconda3\\lib\\site-packages\\sklearn\\linear_model\\_logistic.py\u001b[0m in \u001b[0;36mfit\u001b[1;34m(self, X, y, sample_weight)\u001b[0m\n\u001b[0;32m   1526\u001b[0m         X, y = check_X_y(X, y, accept_sparse='csr', dtype=_dtype, order=\"C\",\n\u001b[0;32m   1527\u001b[0m                          accept_large_sparse=solver != 'liblinear')\n\u001b[1;32m-> 1528\u001b[1;33m         \u001b[0mcheck_classification_targets\u001b[0m\u001b[1;33m(\u001b[0m\u001b[0my\u001b[0m\u001b[1;33m)\u001b[0m\u001b[1;33m\u001b[0m\u001b[1;33m\u001b[0m\u001b[0m\n\u001b[0m\u001b[0;32m   1529\u001b[0m         \u001b[0mself\u001b[0m\u001b[1;33m.\u001b[0m\u001b[0mclasses_\u001b[0m \u001b[1;33m=\u001b[0m \u001b[0mnp\u001b[0m\u001b[1;33m.\u001b[0m\u001b[0munique\u001b[0m\u001b[1;33m(\u001b[0m\u001b[0my\u001b[0m\u001b[1;33m)\u001b[0m\u001b[1;33m\u001b[0m\u001b[1;33m\u001b[0m\u001b[0m\n\u001b[0;32m   1530\u001b[0m         \u001b[0mn_samples\u001b[0m\u001b[1;33m,\u001b[0m \u001b[0mn_features\u001b[0m \u001b[1;33m=\u001b[0m \u001b[0mX\u001b[0m\u001b[1;33m.\u001b[0m\u001b[0mshape\u001b[0m\u001b[1;33m\u001b[0m\u001b[1;33m\u001b[0m\u001b[0m\n",
      "\u001b[1;32m~\\anaconda3\\lib\\site-packages\\sklearn\\utils\\multiclass.py\u001b[0m in \u001b[0;36mcheck_classification_targets\u001b[1;34m(y)\u001b[0m\n\u001b[0;32m    167\u001b[0m     if y_type not in ['binary', 'multiclass', 'multiclass-multioutput',\n\u001b[0;32m    168\u001b[0m                       'multilabel-indicator', 'multilabel-sequences']:\n\u001b[1;32m--> 169\u001b[1;33m         \u001b[1;32mraise\u001b[0m \u001b[0mValueError\u001b[0m\u001b[1;33m(\u001b[0m\u001b[1;34m\"Unknown label type: %r\"\u001b[0m \u001b[1;33m%\u001b[0m \u001b[0my_type\u001b[0m\u001b[1;33m)\u001b[0m\u001b[1;33m\u001b[0m\u001b[1;33m\u001b[0m\u001b[0m\n\u001b[0m\u001b[0;32m    170\u001b[0m \u001b[1;33m\u001b[0m\u001b[0m\n\u001b[0;32m    171\u001b[0m \u001b[1;33m\u001b[0m\u001b[0m\n",
      "\u001b[1;31mValueError\u001b[0m: Unknown label type: 'unknown'"
     ]
    }
   ],
   "source": [
    "from sklearn.linear_model import LogisticRegression\n",
    "classifier = LogisticRegression(random_state = 0)\n",
    "classifier.fit(X_train, y_train)\n",
    "\n",
    "# Predicting Test Set\n",
    "y_pred = classifier.predict(X_test)\n"
   ]
  },
  {
   "cell_type": "code",
   "execution_count": null,
   "metadata": {},
   "outputs": [],
   "source": [
    "# Evaluating Results\n",
    "from sklearn.metrics import confusion_matrix, accuracy_score, f1_score, precision_score, recall_score\n",
    "cm = confusion_matrix(y_test, y_pred)\n",
    "accuracy_score(y_test, y_pred)\n",
    "precision_score(y_test, y_pred) # tp / (tp + fp)\n",
    "recall_score(y_test, y_pred) # tp / (tp + fn)\n",
    "f1_score(y_test, y_pred)"
   ]
  },
  {
   "cell_type": "code",
   "execution_count": null,
   "metadata": {},
   "outputs": [],
   "source": [
    "cm = confusion_matrix(y_test, y_pred) # rows = truth, cols = prediction\n",
    "df_cm = pd.DataFrame(cm, index = (0, 1), columns = (0, 1))\n",
    "plt.figure(figsize = (10,7))\n",
    "sn.set(font_scale=1.4)\n",
    "sn.heatmap(df_cm, annot=True, fmt='g')\n",
    "print(\"Test Data Accuracy: %0.4f\" % accuracy_score(y_test, y_pred))"
   ]
  },
  {
   "cell_type": "code",
   "execution_count": null,
   "metadata": {},
   "outputs": [],
   "source": [
    "from sklearn.ensemble import RandomForestClassifier\n",
    "classifier = RandomForestClassifier(random_state = 0, n_estimators = 100,\n",
    "                                    criterion = 'entropy')\n",
    "classifier.fit(X_train, y_train)\n",
    "\n",
    "# Predicting Test Set\n",
    "y_pred = classifier.predict(X_test)\n",
    "acc = accuracy_score(y_test, y_pred)\n",
    "prec = precision_score(y_test, y_pred)\n",
    "rec = recall_score(y_test, y_pred)\n",
    "f1 = f1_score(y_test, y_pred)\n",
    "\n",
    "cm = confusion_matrix(y_test, y_pred) # rows = truth, cols = prediction\n",
    "df_cm = pd.DataFrame(cm, index = (0, 1), columns = (0, 1))\n",
    "plt.figure(figsize = (10,7))\n",
    "sn.set(font_scale=1.4)\n",
    "sn.heatmap(df_cm, annot=True, fmt='g')\n",
    "print(\"Test Data Accuracy: %0.4f\" % accuracy_score(y_test, y_pred))"
   ]
  },
  {
   "cell_type": "code",
   "execution_count": null,
   "metadata": {},
   "outputs": [],
   "source": []
  },
  {
   "cell_type": "code",
   "execution_count": null,
   "metadata": {},
   "outputs": [],
   "source": []
  },
  {
   "cell_type": "code",
   "execution_count": null,
   "metadata": {},
   "outputs": [],
   "source": []
  },
  {
   "cell_type": "code",
   "execution_count": null,
   "metadata": {},
   "outputs": [],
   "source": []
  },
  {
   "cell_type": "code",
   "execution_count": null,
   "metadata": {},
   "outputs": [],
   "source": []
  },
  {
   "cell_type": "code",
   "execution_count": null,
   "metadata": {},
   "outputs": [],
   "source": []
  },
  {
   "cell_type": "code",
   "execution_count": null,
   "metadata": {},
   "outputs": [],
   "source": []
  },
  {
   "cell_type": "code",
   "execution_count": null,
   "metadata": {},
   "outputs": [],
   "source": []
  },
  {
   "cell_type": "code",
   "execution_count": null,
   "metadata": {},
   "outputs": [],
   "source": []
  },
  {
   "cell_type": "code",
   "execution_count": null,
   "metadata": {},
   "outputs": [],
   "source": []
  },
  {
   "cell_type": "code",
   "execution_count": null,
   "metadata": {},
   "outputs": [],
   "source": []
  },
  {
   "cell_type": "code",
   "execution_count": null,
   "metadata": {},
   "outputs": [],
   "source": []
  },
  {
   "cell_type": "code",
   "execution_count": null,
   "metadata": {},
   "outputs": [],
   "source": []
  },
  {
   "cell_type": "code",
   "execution_count": null,
   "metadata": {},
   "outputs": [],
   "source": []
  },
  {
   "cell_type": "code",
   "execution_count": null,
   "metadata": {},
   "outputs": [],
   "source": []
  },
  {
   "cell_type": "code",
   "execution_count": null,
   "metadata": {},
   "outputs": [],
   "source": []
  },
  {
   "cell_type": "code",
   "execution_count": null,
   "metadata": {},
   "outputs": [],
   "source": []
  },
  {
   "cell_type": "code",
   "execution_count": null,
   "metadata": {},
   "outputs": [],
   "source": []
  },
  {
   "cell_type": "code",
   "execution_count": null,
   "metadata": {},
   "outputs": [],
   "source": []
  },
  {
   "cell_type": "code",
   "execution_count": null,
   "metadata": {},
   "outputs": [],
   "source": []
  },
  {
   "cell_type": "code",
   "execution_count": null,
   "metadata": {},
   "outputs": [],
   "source": []
  },
  {
   "cell_type": "code",
   "execution_count": null,
   "metadata": {},
   "outputs": [],
   "source": []
  },
  {
   "cell_type": "code",
   "execution_count": null,
   "metadata": {},
   "outputs": [],
   "source": []
  },
  {
   "cell_type": "code",
   "execution_count": null,
   "metadata": {},
   "outputs": [],
   "source": []
  },
  {
   "cell_type": "code",
   "execution_count": null,
   "metadata": {},
   "outputs": [],
   "source": []
  },
  {
   "cell_type": "code",
   "execution_count": null,
   "metadata": {},
   "outputs": [],
   "source": []
  },
  {
   "cell_type": "code",
   "execution_count": null,
   "metadata": {},
   "outputs": [],
   "source": []
  },
  {
   "cell_type": "code",
   "execution_count": null,
   "metadata": {},
   "outputs": [],
   "source": []
  },
  {
   "cell_type": "code",
   "execution_count": null,
   "metadata": {},
   "outputs": [],
   "source": []
  },
  {
   "cell_type": "code",
   "execution_count": null,
   "metadata": {},
   "outputs": [],
   "source": []
  },
  {
   "cell_type": "code",
   "execution_count": null,
   "metadata": {},
   "outputs": [],
   "source": []
  },
  {
   "cell_type": "code",
   "execution_count": null,
   "metadata": {},
   "outputs": [],
   "source": []
  }
 ],
 "metadata": {
  "kernelspec": {
   "display_name": "Python 3",
   "language": "python",
   "name": "python3"
  },
  "language_info": {
   "codemirror_mode": {
    "name": "ipython",
    "version": 3
   },
   "file_extension": ".py",
   "mimetype": "text/x-python",
   "name": "python",
   "nbconvert_exporter": "python",
   "pygments_lexer": "ipython3",
   "version": "3.7.6"
  }
 },
 "nbformat": 4,
 "nbformat_minor": 4
}
